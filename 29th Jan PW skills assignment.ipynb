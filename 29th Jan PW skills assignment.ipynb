{
 "cells": [
  {
   "cell_type": "raw",
   "id": "69df7c29",
   "metadata": {},
   "source": [
    "# Question 1 - Who developed Python Programming Language? \n",
    "\n",
    "Answer - Python programming language was developed by Guido van Rossum in the late 1980s at the National Research Institute for Mathematics and Computer Science (CWI) in the Netherlands. \n",
    "\n",
    "## The first public release of Python was in February 1991.\n"
   ]
  },
  {
   "cell_type": "raw",
   "id": "5e22f1fc",
   "metadata": {},
   "source": [
    "Question 2 -  Which type of Programming does Python support?\n",
    "\n",
    "Answer - Object Oriented Programming (OOPs)\n",
    "\n",
    "I used to chatgpt to Find a beautiful example to get to know what is OOP and how to understand it using a real world example.\n",
    "\n",
    "Object-Oriented Programming (OOP) is a programming paradigm that focuses on creating objects that contain data and code to manipulate that data.\n",
    "\n",
    "\n",
    "Think of an object as a real-world object, like a car. A car has certain properties or characteristics such as make, model, year, color, and it also has certain behaviors or actions like accelerating, braking, and changing gears. Similarly, an object in OOP has properties or data, and it also has methods or functions that can manipulate that data."
   ]
  },
  {
   "cell_type": "raw",
   "id": "7835093b",
   "metadata": {},
   "source": [
    "Quesion 3 - Is Python case sensitive when dealing with identifiers?\n",
    "\n",
    "Answer - Again with the help of chatGPGT i got to know what identifiers are and their types. This really helped me understand it in a summarized way.\n",
    "\n",
    "So First lets understand what Identifiers are - \n",
    "\n",
    "An identifier is a name that is used to identify a variable, function, class, module, or any other user-defined object. An identifier is a sequence of letters, digits, and underscores (_), and it must begin with a letter or an underscore.\n",
    "\n",
    "Example- 'pw_skills' , 'Pwskills' are example of Identifiers in Python.\n",
    "\n",
    "In summary, an identifier is a name given to a variable, function, class, or any other user-defined object in Python. It helps to identify and distinguish between different objects in your code.\n",
    "\n",
    "Some of the most common types of identifiers are:\n",
    "\n",
    "Camel Case: The first letter of each word is capitalized, except the first word. For example: 'myPwSkillsClass'\n",
    "\n",
    "Pascal Case: The first letter of each word is capitalized, including the first word. For example: 'MyPwSkillsClass'\n",
    "\n",
    "Snake Case: All letters are lowercase, and words are separated by underscores. For example: 'my_pwskills_class'\n",
    "\n",
    "Upper Case: All letters are uppercase. For example: 'MY_PWSKILLS_CLASS'\n",
    "\n",
    "\n",
    "While exploring this - I also got to undertand what (\"variable, function, class, module, or any other user-defined object\") these terms mean with example.Explaining below - \n",
    "\n",
    "Variable: A variable is a named storage location in your code that holds a value, such as a number or a string.\n",
    "my_variable = 5\n",
    "my_name = \"pwskills\"\n",
    "\n",
    "Function: A function is a named block of code that performs a specific task or calculation.\n",
    "\n",
    "Rest of them function class module I couldn't undertsand from CHATGPT as they are not yet covered by Sudhanshu In class.\n",
    "\n",
    "\n",
    "SUMMARY - Yes, Python is case sensitive when dealing with identifiers. This means that the uppercase and lowercase letters are considered distinct and separate.\n",
    "\n",
    "\n"
   ]
  },
  {
   "cell_type": "raw",
   "id": "8a11b037",
   "metadata": {},
   "source": [
    "Question 4 - What is the correct extension of the Python file? \n",
    "\n",
    ".ipynb as checked in my system - Rest , I am not sure\n"
   ]
  },
  {
   "cell_type": "raw",
   "id": "46c09a6b",
   "metadata": {},
   "source": [
    "# Question 5 - Is Python code compiled or interpreted? \n",
    "\n",
    "I understood the concept of Compiled or Interpreted with the help of a very good and relatable example.\n",
    "\n",
    "In programming languages like Python and C++, we need to convert our code into a form that computers can understand. There are two ways to do this: compilation and interpretation. Compilation is like baking a cake and giving it to someone to eat. You write the recipe once, convert it into a cake, and then distribute the cake to others. Interpreted languages like Python are like reading the recipe out loud and baking the cake at the same time. Every time you want to bake the cake, you read the recipe out loud and make the cake. \n",
    "\n",
    "Python is an interpreted language. This is different from compiled languages like C or C++ or Java.\n",
    "\n",
    "In Python, we don't have to worry about compiling our code because the interpreter takes care of it for us. we just write  code and run it, and the interpreter does the rest. When we run a Python program, the interpreter reads the code line by line and executes it. The standard Python interpreter is the command-line interface (CLI) called \"python\"\n",
    "\n",
    "However, there are tools like PyInstaller and Py2exe that allows package the Python code into an executable file if we need to distribute the code to users who don't have Python installed on their machines.\n",
    "\n",
    "\n",
    "\n",
    "\n"
   ]
  },
  {
   "cell_type": "raw",
   "id": "b5cdf01d",
   "metadata": {},
   "source": [
    "Question 6 - Name a few blocks of code used to define in Python language - \n",
    "\n",
    "1. Conditional Statements - If , else , elseif\n",
    "2. Loops - for loop\n",
    "3. Functions \n",
    "4. Class deifinitions"
   ]
  },
  {
   "cell_type": "raw",
   "id": "73b4df03",
   "metadata": {},
   "source": [
    "Question 7 - State a character used to give single-line comments in Python\n",
    "#"
   ]
  },
  {
   "cell_type": "raw",
   "id": "bfef661b",
   "metadata": {},
   "source": [
    "Question 8 -  functions which can help us to find the version of python that we are currently working on? \n",
    "ans - not taught in class yet...\n",
    "\n",
    "sys.version and platform.version\n"
   ]
  },
  {
   "cell_type": "code",
   "execution_count": 2,
   "id": "bccd79e9",
   "metadata": {},
   "outputs": [],
   "source": [
    "import sys"
   ]
  },
  {
   "cell_type": "code",
   "execution_count": 3,
   "id": "1ef8976e",
   "metadata": {},
   "outputs": [
    {
     "data": {
      "text/plain": [
       "'3.8.8 (default, Apr 13 2021, 15:08:03) [MSC v.1916 64 bit (AMD64)]'"
      ]
     },
     "execution_count": 3,
     "metadata": {},
     "output_type": "execute_result"
    }
   ],
   "source": [
    "sys.version"
   ]
  },
  {
   "cell_type": "code",
   "execution_count": 4,
   "id": "af946a88",
   "metadata": {},
   "outputs": [],
   "source": [
    "import platform"
   ]
  },
  {
   "cell_type": "code",
   "execution_count": 7,
   "id": "852cf4fe",
   "metadata": {},
   "outputs": [
    {
     "data": {
      "text/plain": [
       "<function platform.python_version()>"
      ]
     },
     "execution_count": 7,
     "metadata": {},
     "output_type": "execute_result"
    }
   ],
   "source": []
  },
  {
   "cell_type": "raw",
   "id": "d7b7fcee",
   "metadata": {},
   "source": [
    "Question 9 - Python supports the creation of anonymous functions at runtime, using a construct called \n",
    "Answer - Lambda"
   ]
  },
  {
   "cell_type": "code",
   "execution_count": 10,
   "id": "691f9d0c",
   "metadata": {},
   "outputs": [],
   "source": [
    "import numpy as np"
   ]
  },
  {
   "cell_type": "raw",
   "id": "392716f7",
   "metadata": {},
   "source": [
    "Question 10 -  What does pip stand for python\n",
    "\n",
    "Answer - Imagine you're working on a Python project that requires a package called \"numpy\" to do some complex mathematical calculations. You want to install this package, but you don't want to manually download and install the files yourself. This is where pip comes in.\n",
    "\n",
    "Pip is a package manager for Python that makes it easy to install and manage software packages or modules written in Python.\n",
    "\n",
    "PIP stands for \"Pip Installs Packages\"\n"
   ]
  },
  {
   "cell_type": "raw",
   "id": "c5008d57",
   "metadata": {},
   "source": [
    "Question 11 - Mention a few built-in functions in python?\n",
    "\n",
    "print , input , int and str\n",
    "\n",
    "1. Print\n",
    "print(\"pw skills\")\n",
    "\n",
    "2. input\n",
    "price = input(\"price of laptop is\")\n",
    "\n",
    "3. int - used to convert a string or float to an integer\n",
    "a = \"42\"\n",
    "a1 = int(\"a\")\n",
    "\n",
    "4. str : used to convert an object to a string\n"
   ]
  },
  {
   "cell_type": "raw",
   "id": "3d043b37",
   "metadata": {},
   "source": [
    "Question 12 - What is the maximum possible length of an identifier in Python? \n",
    "\n",
    "not specifiied"
   ]
  },
  {
   "cell_type": "raw",
   "id": "a59c54e0",
   "metadata": {},
   "source": [
    "Question 13 - What are the benefits of using Python? \n",
    "\n",
    "Easy to Learn - Great 1st language for beginners\n",
    "\n",
    "Versatile - Web development , data analysis and machine learning\n",
    "\n",
    "Large community and ecosystem -  Python has a large and active community of developers who contribute to open-source projects and libraries, making it easy to find support and resources online\n",
    "\n",
    "Cross-platform -  Python runs on many operating systems, including Windows, macOS, and Linux\n",
    "\n",
    "\n",
    "\n",
    "\n",
    "\n"
   ]
  },
  {
   "cell_type": "raw",
   "id": "0589f4d6",
   "metadata": {},
   "source": [
    "Question 14 - How is memory managed in Python?\n",
    "\n",
    "\"reference counting\""
   ]
  },
  {
   "cell_type": "raw",
   "id": "10d22e48",
   "metadata": {},
   "source": [
    "Question 15 - How to install Python on Windows and set path variables?\n",
    "\n",
    "To install Python on Windows, follow these steps:\n",
    "\n",
    "Go to the Python downloads page (https://www.python.org/downloads/) and download the latest version of Python for Windows.\n",
    "Double-click the downloaded file to start the installation process.\n",
    "Follow the instructions in the installation wizard to install Python.\n",
    "Once Python is installed, you need to set the path variables so that your computer knows where to find the Python interpreter. To do this, follow these steps:\n",
    "Right-click on the \"My Computer\" icon and select \"Properties\".\n",
    "Click on \"Advanced System Settings\".\n",
    "Click on the \"Environment Variables\" button.\n",
    "Under \"System Variables\", find the \"Path\" variable and click on \"Edit\".\n",
    "Add the path to the Python installation directory (e.g. C:\\Python38\\ or C:\\Users\\Username\\AppData\\Local\\Programs\\Python\\Python38-32) to the list of paths."
   ]
  },
  {
   "cell_type": "raw",
   "id": "3d4618ce",
   "metadata": {},
   "source": [
    "Question 16  -  Is indentation required in python? \n",
    "\n",
    "Yes - This is important because it tells the Python interpreter which lines of code belong together in a particular block, such as a loop or function"
   ]
  },
  {
   "cell_type": "code",
   "execution_count": null,
   "id": "822b43c2",
   "metadata": {},
   "outputs": [],
   "source": []
  }
 ],
 "metadata": {
  "kernelspec": {
   "display_name": "Python 3",
   "language": "python",
   "name": "python3"
  },
  "language_info": {
   "codemirror_mode": {
    "name": "ipython",
    "version": 3
   },
   "file_extension": ".py",
   "mimetype": "text/x-python",
   "name": "python",
   "nbconvert_exporter": "python",
   "pygments_lexer": "ipython3",
   "version": "3.8.8"
  }
 },
 "nbformat": 4,
 "nbformat_minor": 5
}
